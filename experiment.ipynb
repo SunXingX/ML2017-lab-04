{
 "cells": [
  {
   "cell_type": "code",
   "execution_count": null,
   "metadata": {
    "collapsed": true
   },
   "outputs": [],
   "source": [
    "# -*- coding: utf-8 -*-\n",
    "\"\"\"\n",
    "Created on Fri Dec 22 18:21:49 2017\n",
    "\n",
    "@author: wk\n",
    "\"\"\"\n",
    "\n",
    "import numpy as np\n",
    "import matplotlib.pyplot as plt\n",
    "import pandas as pd\n",
    "from sklearn.cross_validation import train_test_split\n",
    "\n",
    "data_fields = ['user id','item id', 'rating', 'timestamp']\n",
    "\n",
    "data_train = pd.read_table(r\"E:\\machinelearning\\ex4\\ml-100k\\ml-100k\\u1.base\", names = data_fields)\n",
    "data_test = pd.read_table(r\"E:\\machinelearning\\ex4\\ml-100k\\ml-100k\\u1.test\", names = data_fields)\n",
    "n_users = 943\n",
    "n_items = 1682\n",
    "X = np.array(data_train)\n",
    "Y = np.array(data_test)\n",
    "R = np.zeros(([n_users,n_items]))\n",
    "R_test = np.zeros(([n_users,n_items]))\n",
    "for i in range(80000):\n",
    "    R[X[i,0]-1,X[i,1]-1] = X[i,2]\n",
    "for i in range(20000):\n",
    "    R_test[Y[i,0]-1,Y[i,1]-1] = Y[i,2]\n",
    "k = 30\n",
    "U = np.ones(([n_users,k]))\n",
    "V = np.ones(([n_items,k]))\n",
    "L = []\n",
    "\n",
    "for x in range(5):\n",
    "    l = np.sum((R_test - np.dot(U,V.T))**2)\n",
    "    L.append(l)\n",
    "    s = np.zeros(k)\n",
    "    t = np.sum(V*V,axis=0)\n",
    "    for i in range(n_users):\n",
    "        for j in range(n_items):\n",
    "            s = s + R[i,j]*V[j,:]\n",
    "        U[i,:] = s/t\n",
    "        s = np.zeros(k)\n",
    "    t = np.sum(U*U,axis=0)\n",
    "    for j in range(n_items):\n",
    "        for i in range(n_users):\n",
    "            s = s + R[i,j]*U[i,:]\n",
    "        V[j,:] = s/t\n",
    "        s = np.zeros(k)\n"
   ]
  }
 ],
 "metadata": {
  "kernelspec": {
   "display_name": "Python 3",
   "language": "python",
   "name": "python3"
  },
  "language_info": {
   "codemirror_mode": {
    "name": "ipython",
    "version": 3
   },
   "file_extension": ".py",
   "mimetype": "text/x-python",
   "name": "python",
   "nbconvert_exporter": "python",
   "pygments_lexer": "ipython3",
   "version": "3.6.3"
  }
 },
 "nbformat": 4,
 "nbformat_minor": 2
}
